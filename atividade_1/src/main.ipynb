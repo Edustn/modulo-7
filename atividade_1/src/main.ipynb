{
 "cells": [
  {
   "cell_type": "markdown",
   "metadata": {},
   "source": [
    "# Exploração dos Dados"
   ]
  },
  {
   "cell_type": "code",
   "execution_count": 1,
   "metadata": {},
   "outputs": [],
   "source": [
    "# Importação de dependencias\n",
    "import pandas as pd\n"
   ]
  },
  {
   "cell_type": "markdown",
   "metadata": {},
   "source": [
    "# Exploração dos Dados"
   ]
  },
  {
   "cell_type": "code",
   "execution_count": 3,
   "metadata": {},
   "outputs": [
    {
     "data": {
      "text/html": [
       "<div>\n",
       "<style scoped>\n",
       "    .dataframe tbody tr th:only-of-type {\n",
       "        vertical-align: middle;\n",
       "    }\n",
       "\n",
       "    .dataframe tbody tr th {\n",
       "        vertical-align: top;\n",
       "    }\n",
       "\n",
       "    .dataframe thead th {\n",
       "        text-align: right;\n",
       "    }\n",
       "</style>\n",
       "<table border=\"1\" class=\"dataframe\">\n",
       "  <thead>\n",
       "    <tr style=\"text-align: right;\">\n",
       "      <th></th>\n",
       "      <th>Data</th>\n",
       "      <th>Último</th>\n",
       "      <th>Abertura</th>\n",
       "      <th>Máxima</th>\n",
       "      <th>Mínima</th>\n",
       "      <th>Vol.</th>\n",
       "      <th>Var%</th>\n",
       "    </tr>\n",
       "  </thead>\n",
       "  <tbody>\n",
       "    <tr>\n",
       "      <th>0</th>\n",
       "      <td>02.09.2024</td>\n",
       "      <td>59.247,7</td>\n",
       "      <td>57.309,0</td>\n",
       "      <td>59.276,9</td>\n",
       "      <td>57.185,8</td>\n",
       "      <td>75,63K</td>\n",
       "      <td>3,37%</td>\n",
       "    </tr>\n",
       "    <tr>\n",
       "      <th>1</th>\n",
       "      <td>01.09.2024</td>\n",
       "      <td>57.315,7</td>\n",
       "      <td>58.975,7</td>\n",
       "      <td>59.058,7</td>\n",
       "      <td>57.232,4</td>\n",
       "      <td>63,95K</td>\n",
       "      <td>-2,82%</td>\n",
       "    </tr>\n",
       "    <tr>\n",
       "      <th>2</th>\n",
       "      <td>31.08.2024</td>\n",
       "      <td>58.978,6</td>\n",
       "      <td>59.120,4</td>\n",
       "      <td>59.447,0</td>\n",
       "      <td>58.761,1</td>\n",
       "      <td>30,86K</td>\n",
       "      <td>-0,24%</td>\n",
       "    </tr>\n",
       "    <tr>\n",
       "      <th>3</th>\n",
       "      <td>30.08.2024</td>\n",
       "      <td>59.119,7</td>\n",
       "      <td>59.371,7</td>\n",
       "      <td>59.817,6</td>\n",
       "      <td>57.874,7</td>\n",
       "      <td>87,31K</td>\n",
       "      <td>-0,43%</td>\n",
       "    </tr>\n",
       "    <tr>\n",
       "      <th>4</th>\n",
       "      <td>29.08.2024</td>\n",
       "      <td>59.373,5</td>\n",
       "      <td>59.027,3</td>\n",
       "      <td>61.150,6</td>\n",
       "      <td>58.807,1</td>\n",
       "      <td>87,19K</td>\n",
       "      <td>0,61%</td>\n",
       "    </tr>\n",
       "  </tbody>\n",
       "</table>\n",
       "</div>"
      ],
      "text/plain": [
       "         Data    Último  Abertura    Máxima    Mínima    Vol.    Var%\n",
       "0  02.09.2024  59.247,7  57.309,0  59.276,9  57.185,8  75,63K   3,37%\n",
       "1  01.09.2024  57.315,7  58.975,7  59.058,7  57.232,4  63,95K  -2,82%\n",
       "2  31.08.2024  58.978,6  59.120,4  59.447,0  58.761,1  30,86K  -0,24%\n",
       "3  30.08.2024  59.119,7  59.371,7  59.817,6  57.874,7  87,31K  -0,43%\n",
       "4  29.08.2024  59.373,5  59.027,3  61.150,6  58.807,1  87,19K   0,61%"
      ]
     },
     "execution_count": 3,
     "metadata": {},
     "output_type": "execute_result"
    }
   ],
   "source": [
    "df = pd.read_csv('../database/bitcoin.csv')\n",
    "df.head()"
   ]
  },
  {
   "cell_type": "code",
   "execution_count": 4,
   "metadata": {},
   "outputs": [
    {
     "name": "stdout",
     "output_type": "stream",
     "text": [
      "<class 'pandas.core.frame.DataFrame'>\n",
      "RangeIndex: 611 entries, 0 to 610\n",
      "Data columns (total 7 columns):\n",
      " #   Column    Non-Null Count  Dtype \n",
      "---  ------    --------------  ----- \n",
      " 0   Data      611 non-null    object\n",
      " 1   Último    611 non-null    object\n",
      " 2   Abertura  611 non-null    object\n",
      " 3   Máxima    611 non-null    object\n",
      " 4   Mínima    611 non-null    object\n",
      " 5   Vol.      611 non-null    object\n",
      " 6   Var%      611 non-null    object\n",
      "dtypes: object(7)\n",
      "memory usage: 33.5+ KB\n"
     ]
    }
   ],
   "source": [
    "df.info()"
   ]
  },
  {
   "cell_type": "code",
   "execution_count": 7,
   "metadata": {},
   "outputs": [
    {
     "data": {
      "text/plain": [
       "Data        0\n",
       "Último      0\n",
       "Abertura    0\n",
       "Máxima      0\n",
       "Mínima      0\n",
       "Vol.        0\n",
       "Var%        0\n",
       "dtype: int64"
      ]
     },
     "execution_count": 7,
     "metadata": {},
     "output_type": "execute_result"
    }
   ],
   "source": [
    "df.isna().sum()"
   ]
  },
  {
   "cell_type": "code",
   "execution_count": 8,
   "metadata": {},
   "outputs": [
    {
     "data": {
      "text/plain": [
       "Data        0\n",
       "Último      0\n",
       "Abertura    0\n",
       "Máxima      0\n",
       "Mínima      0\n",
       "Vol.        0\n",
       "Var%        0\n",
       "dtype: int64"
      ]
     },
     "execution_count": 8,
     "metadata": {},
     "output_type": "execute_result"
    }
   ],
   "source": [
    "df.isnull().sum()"
   ]
  },
  {
   "cell_type": "code",
   "execution_count": null,
   "metadata": {},
   "outputs": [],
   "source": []
  }
 ],
 "metadata": {
  "kernelspec": {
   "display_name": "Python 3",
   "language": "python",
   "name": "python3"
  },
  "language_info": {
   "codemirror_mode": {
    "name": "ipython",
    "version": 3
   },
   "file_extension": ".py",
   "mimetype": "text/x-python",
   "name": "python",
   "nbconvert_exporter": "python",
   "pygments_lexer": "ipython3",
   "version": "3.11.9"
  }
 },
 "nbformat": 4,
 "nbformat_minor": 2
}
